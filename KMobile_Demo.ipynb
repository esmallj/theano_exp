{
 "cells": [
  {
   "cell_type": "code",
   "execution_count": 1,
   "metadata": {
    "collapsed": false
   },
   "outputs": [
    {
     "name": "stderr",
     "output_type": "stream",
     "text": [
      "Using gpu device 0: GeForce GTX TITAN X (CNMeM is disabled)\n"
     ]
    }
   ],
   "source": [
    "import os\n",
    "import sys\n",
    "import timeit\n",
    "\n",
    "import numpy\n",
    "\n",
    "deep_root = 'DeepLearningTutorials/'\n",
    "sys.path.insert(0, os.path.join(deep_root,'code'))\n",
    "\n",
    "import theano\n",
    "import theano.tensor as T\n",
    "from theano.tensor.signal import downsample\n",
    "from theano.tensor.nnet import conv\n",
    "\n",
    "from logistic_sgd import LogisticRegression, load_data\n",
    "from mlp import HiddenLayer\n"
   ]
  },
  {
   "cell_type": "code",
   "execution_count": 4,
   "metadata": {
    "collapsed": true
   },
   "outputs": [],
   "source": [
    "from convolutional_mlp import  LeNetConvPoolLayer"
   ]
  },
  {
   "cell_type": "markdown",
   "metadata": {},
   "source": [
    "##Model Design and Training"
   ]
  },
  {
   "cell_type": "code",
   "execution_count": 5,
   "metadata": {
    "collapsed": true
   },
   "outputs": [],
   "source": [
    "learning_rate=0.1\n",
    "n_epochs=10\n",
    "dataset='mnist.pkl.gz'\n",
    "nkerns=[20, 50]\n",
    "batch_size=500\n",
    "rng = numpy.random.RandomState(23455)"
   ]
  },
  {
   "cell_type": "code",
   "execution_count": 6,
   "metadata": {
    "collapsed": false
   },
   "outputs": [
    {
     "name": "stdout",
     "output_type": "stream",
     "text": [
      "... loading data\n"
     ]
    }
   ],
   "source": [
    "datasets = load_data(dataset)\n",
    "\n",
    "train_set_x, train_set_y = datasets[0]\n",
    "valid_set_x, valid_set_y = datasets[1]\n",
    "test_set_x, test_set_y = datasets[2]\n",
    "\n",
    "# compute number of minibatches for training, validation and testing\n",
    "n_train_batches = train_set_x.get_value(borrow=True).shape[0]\n",
    "n_valid_batches = valid_set_x.get_value(borrow=True).shape[0]\n",
    "n_test_batches = test_set_x.get_value(borrow=True).shape[0]\n",
    "n_train_batches /= batch_size\n",
    "n_valid_batches /= batch_size\n",
    "n_test_batches /= batch_size"
   ]
  },
  {
   "cell_type": "code",
   "execution_count": 10,
   "metadata": {
    "collapsed": false
   },
   "outputs": [
    {
     "data": {
      "text/plain": [
       "Elemwise{Cast{int32}}.0"
      ]
     },
     "execution_count": 10,
     "metadata": {},
     "output_type": "execute_result"
    }
   ],
   "source": [
    "test_set_y"
   ]
  },
  {
   "cell_type": "code",
   "execution_count": 15,
   "metadata": {
    "collapsed": false,
    "scrolled": true
   },
   "outputs": [
    {
     "name": "stdout",
     "output_type": "stream",
     "text": [
      "... building the model\n",
      "... training\n",
      "training @ iter =  0\n",
      "epoch 1, minibatch 100/100, validation error 9.230000 %\n",
      "     epoch 1, minibatch 100/100, test error of best model 9.520000 %\n",
      "training @ iter =  100\n",
      "epoch 2, minibatch 100/100, validation error 6.180000 %\n",
      "     epoch 2, minibatch 100/100, test error of best model 6.500000 %\n",
      "training @ iter =  200\n",
      "epoch 3, minibatch 100/100, validation error 4.640000 %\n",
      "     epoch 3, minibatch 100/100, test error of best model 4.850000 %\n",
      "training @ iter =  300\n",
      "epoch 4, minibatch 100/100, validation error 3.500000 %\n",
      "     epoch 4, minibatch 100/100, test error of best model 3.910000 %\n",
      "training @ iter =  400\n",
      "epoch 5, minibatch 100/100, validation error 3.020000 %\n",
      "     epoch 5, minibatch 100/100, test error of best model 3.260000 %\n",
      "training @ iter =  500\n",
      "epoch 6, minibatch 100/100, validation error 2.780000 %\n",
      "     epoch 6, minibatch 100/100, test error of best model 2.800000 %\n",
      "training @ iter =  600\n",
      "epoch 7, minibatch 100/100, validation error 2.470000 %\n",
      "     epoch 7, minibatch 100/100, test error of best model 2.500000 %\n",
      "training @ iter =  700\n",
      "epoch 8, minibatch 100/100, validation error 2.290000 %\n",
      "     epoch 8, minibatch 100/100, test error of best model 2.220000 %\n",
      "training @ iter =  800\n",
      "epoch 9, minibatch 100/100, validation error 2.160000 %\n",
      "     epoch 9, minibatch 100/100, test error of best model 2.010000 %\n",
      "training @ iter =  900\n",
      "epoch 10, minibatch 100/100, validation error 1.970000 %\n",
      "     epoch 10, minibatch 100/100, test error of best model 1.880000 %\n",
      "Optimization complete.\n",
      "Best validation score of 1.970000 % obtained at iteration 1000, with test performance 1.880000 %\n"
     ]
    }
   ],
   "source": [
    "\"\"\"\n",
    "def evaluate_lenet5(learning_rate=0.1, n_epochs=200,\n",
    "                    dataset='mnist.pkl.gz',\n",
    "                    nkerns=[20, 50], batch_size=500):\n",
    "\"\"\"    \n",
    "\"\"\" Demonstrates lenet on MNIST dataset\n",
    "\n",
    ":type learning_rate: float\n",
    ":param learning_rate: learning rate used (factor for the stochastic\n",
    "                      gradient)\n",
    "\n",
    ":type n_epochs: int\n",
    ":param n_epochs: maximal number of epochs to run the optimizer\n",
    "\n",
    ":type dataset: string\n",
    ":param dataset: path to the dataset used for training /testing (MNIST here)\n",
    "\n",
    ":type nkerns: list of ints\n",
    ":param nkerns: number of kernels on each layer\n",
    "\"\"\"\n",
    "\n",
    "\n",
    "# allocate symbolic variables for the data\n",
    "index = T.lscalar()  # index to a [mini]batch\n",
    "\n",
    "# start-snippet-1\n",
    "x = T.matrix('x')   # the data is presented as rasterized images\n",
    "y = T.ivector('y')  # the labels are presented as 1D vector of\n",
    "                    # [int] labels\n",
    "\n",
    "######################\n",
    "# BUILD ACTUAL MODEL #\n",
    "######################\n",
    "print '... building the model'\n",
    "\n",
    "# Reshape matrix of rasterized images of shape (batch_size, 28 * 28)\n",
    "# to a 4D tensor, compatible with our LeNetConvPoolLayer\n",
    "# (28, 28) is the size of MNIST images.\n",
    "layer0_input = x.reshape((batch_size, 1, 28, 28))\n",
    "\n",
    "# Construct the first convolutional pooling layer:\n",
    "# filtering reduces the image size to (28-5+1 , 28-5+1) = (24, 24)\n",
    "# maxpooling reduces this further to (24/2, 24/2) = (12, 12)\n",
    "# 4D output tensor is thus of shape (batch_size, nkerns[0], 12, 12)\n",
    "layer0 = LeNetConvPoolLayer(\n",
    "    rng,\n",
    "    input=layer0_input,\n",
    "    image_shape=(batch_size, 1, 28, 28),\n",
    "    filter_shape=(nkerns[0], 1, 5, 5),\n",
    "    poolsize=(2, 2)\n",
    ")\n",
    "\n",
    "# Construct the second convolutional pooling layer\n",
    "# filtering reduces the image size to (12-5+1, 12-5+1) = (8, 8)\n",
    "# maxpooling reduces this further to (8/2, 8/2) = (4, 4)\n",
    "# 4D output tensor is thus of shape (batch_size, nkerns[1], 4, 4)\n",
    "layer1 = LeNetConvPoolLayer(\n",
    "    rng,\n",
    "    input=layer0.output,\n",
    "    image_shape=(batch_size, nkerns[0], 12, 12),\n",
    "    filter_shape=(nkerns[1], nkerns[0], 5, 5),\n",
    "    poolsize=(2, 2)\n",
    ")\n",
    "\n",
    "# the HiddenLayer being fully-connected, it operates on 2D matrices of\n",
    "# shape (batch_size, num_pixels) (i.e matrix of rasterized images).\n",
    "# This will generate a matrix of shape (batch_size, nkerns[1] * 4 * 4),\n",
    "# or (500, 50 * 4 * 4) = (500, 800) with the default values.\n",
    "layer2_input = layer1.output.flatten(2)\n",
    "\n",
    "# construct a fully-connected sigmoidal layer\n",
    "layer2 = HiddenLayer(\n",
    "    rng,\n",
    "    input=layer2_input,\n",
    "    n_in=nkerns[1] * 4 * 4,\n",
    "    n_out=500,\n",
    "    activation=T.tanh\n",
    ")\n",
    "\n",
    "# classify the values of the fully-connected sigmoidal layer\n",
    "layer3 = LogisticRegression(input=layer2.output, n_in=500, n_out=10)\n",
    "\n",
    "# the cost we minimize during training is the NLL of the model\n",
    "cost = layer3.negative_log_likelihood(y)\n",
    "\n",
    "# create a function to compute the mistakes that are made by the model\n",
    "test_model = theano.function(\n",
    "    [index],\n",
    "    layer3.errors(y),\n",
    "    givens={\n",
    "        x: test_set_x[index * batch_size: (index + 1) * batch_size],\n",
    "        y: test_set_y[index * batch_size: (index + 1) * batch_size]\n",
    "    }\n",
    ")\n",
    "\n",
    "validate_model = theano.function(\n",
    "    [index],\n",
    "    layer3.errors(y),\n",
    "    givens={\n",
    "        x: valid_set_x[index * batch_size: (index + 1) * batch_size],\n",
    "        y: valid_set_y[index * batch_size: (index + 1) * batch_size]\n",
    "    }\n",
    ")\n",
    "\n",
    "# create a list of all model parameters to be fit by gradient descent\n",
    "params = layer3.params + layer2.params + layer1.params + layer0.params\n",
    "\n",
    "# create a list of gradients for all model parameters\n",
    "grads = T.grad(cost, params)\n",
    "\n",
    "# train_model is a function that updates the model parameters by\n",
    "# SGD Since this model has many parameters, it would be tedious to\n",
    "# manually create an update rule for each model parameter. We thus\n",
    "# create the updates list by automatically looping over all\n",
    "# (params[i], grads[i]) pairs.\n",
    "updates = [\n",
    "    (param_i, param_i - learning_rate * grad_i)\n",
    "    for param_i, grad_i in zip(params, grads)\n",
    "]\n",
    "\n",
    "train_model = theano.function(\n",
    "    [index],\n",
    "    cost,\n",
    "    updates=updates,\n",
    "    givens={\n",
    "        x: train_set_x[index * batch_size: (index + 1) * batch_size],\n",
    "        y: train_set_y[index * batch_size: (index + 1) * batch_size]\n",
    "    }\n",
    ")\n",
    "# end-snippet-1\n",
    "\n",
    "###############\n",
    "# TRAIN MODEL #\n",
    "###############\n",
    "print '... training'\n",
    "# early-stopping parameters\n",
    "patience = 10000  # look as this many examples regardless\n",
    "patience_increase = 2  # wait this much longer when a new best is\n",
    "                       # found\n",
    "improvement_threshold = 0.995  # a relative improvement of this much is\n",
    "                               # considered significant\n",
    "validation_frequency = min(n_train_batches, patience / 2)\n",
    "                              # go through this many\n",
    "                              # minibatche before checking the network\n",
    "                              # on the validation set; in this case we\n",
    "                              # check every epoch\n",
    "\n",
    "best_validation_loss = numpy.inf\n",
    "best_iter = 0\n",
    "test_score = 0.\n",
    "start_time = timeit.default_timer()\n",
    "\n",
    "epoch = 0\n",
    "done_looping = False\n",
    "\n",
    "while (epoch < n_epochs) and (not done_looping):\n",
    "    epoch = epoch + 1\n",
    "    for minibatch_index in xrange(n_train_batches):\n",
    "\n",
    "        iter = (epoch - 1) * n_train_batches + minibatch_index\n",
    "\n",
    "        if iter % 100 == 0:\n",
    "            print 'training @ iter = ', iter\n",
    "        cost_ij = train_model(minibatch_index)\n",
    "\n",
    "        if (iter + 1) % validation_frequency == 0:\n",
    "\n",
    "            # compute zero-one loss on validation set\n",
    "            validation_losses = [validate_model(i) for i\n",
    "                                 in xrange(n_valid_batches)]\n",
    "            this_validation_loss = numpy.mean(validation_losses)\n",
    "            print('epoch %i, minibatch %i/%i, validation error %f %%' %\n",
    "                  (epoch, minibatch_index + 1, n_train_batches,\n",
    "                   this_validation_loss * 100.))\n",
    "\n",
    "            # if we got the best validation score until now\n",
    "            if this_validation_loss < best_validation_loss:\n",
    "\n",
    "                #improve patience if loss improvement is good enough\n",
    "                if this_validation_loss < best_validation_loss *  \\\n",
    "                   improvement_threshold:\n",
    "                    patience = max(patience, iter * patience_increase)\n",
    "\n",
    "                # save best validation score and iteration number\n",
    "                best_validation_loss = this_validation_loss\n",
    "                best_iter = iter\n",
    "\n",
    "                # test it on the test set\n",
    "                test_losses = [\n",
    "                    test_model(i)\n",
    "                    for i in xrange(n_test_batches)\n",
    "                ]\n",
    "                test_score = numpy.mean(test_losses)\n",
    "                print(('     epoch %i, minibatch %i/%i, test error of '\n",
    "                       'best model %f %%') %\n",
    "                      (epoch, minibatch_index + 1, n_train_batches,\n",
    "                       test_score * 100.))\n",
    "\n",
    "        if patience <= iter:\n",
    "            done_looping = True\n",
    "            break\n",
    "\n",
    "end_time = timeit.default_timer()\n",
    "print('Optimization complete.')\n",
    "print('Best validation score of %f %% obtained at iteration %i, '\n",
    "      'with test performance %f %%' %\n",
    "      (best_validation_loss * 100., best_iter + 1, test_score * 100.))\n"
   ]
  },
  {
   "cell_type": "markdown",
   "metadata": {},
   "source": [
    "##Compile a test function"
   ]
  },
  {
   "cell_type": "code",
   "execution_count": 16,
   "metadata": {
    "collapsed": false
   },
   "outputs": [],
   "source": [
    "idx = T.lscalar()\n",
    "predict_datum = theano.function(\n",
    "    [idx],\n",
    "    layer3.y_pred,\n",
    "    givens={\n",
    "        x: test_set_x[idx * batch_size: (idx + 1) * batch_size]\n",
    "    }\n",
    ")\n"
   ]
  },
  {
   "cell_type": "code",
   "execution_count": 17,
   "metadata": {
    "collapsed": false
   },
   "outputs": [],
   "source": [
    "result = []\n",
    "for i in range(n_test_batches):\n",
    "    result.append(predict_datum(i))"
   ]
  },
  {
   "cell_type": "code",
   "execution_count": 18,
   "metadata": {
    "collapsed": false
   },
   "outputs": [],
   "source": [
    "import numpy as np\n",
    "result = np.hstack([predict_datum(i) for i in xrange(n_test_batches)])"
   ]
  },
  {
   "cell_type": "markdown",
   "metadata": {},
   "source": [
    "##calculate accuracy"
   ]
  },
  {
   "cell_type": "code",
   "execution_count": 26,
   "metadata": {
    "collapsed": false
   },
   "outputs": [],
   "source": [
    "num_test_set = test_set_y.eval().shape[0]\n",
    "idx_acc = [i for i in xrange(num_test_set) if result[i] == test_set_y.eval()[i] ]\n",
    "acc = len(idx_acc) / float(num_test_set)"
   ]
  },
  {
   "cell_type": "code",
   "execution_count": 27,
   "metadata": {
    "collapsed": false
   },
   "outputs": [
    {
     "data": {
      "text/plain": [
       "0.9812"
      ]
     },
     "execution_count": 27,
     "metadata": {},
     "output_type": "execute_result"
    }
   ],
   "source": [
    "acc"
   ]
  },
  {
   "cell_type": "markdown",
   "metadata": {},
   "source": [
    "##Visualization"
   ]
  },
  {
   "cell_type": "code",
   "execution_count": 29,
   "metadata": {
    "collapsed": false
   },
   "outputs": [
    {
     "name": "stdout",
     "output_type": "stream",
     "text": [
      "7\n"
     ]
    },
    {
     "data": {
      "image/png": "[encoded data removed]",
      "text/plain": [
       "<matplotlib.figure.Figure at 0x7f91c80435d0>"
      ]
     },
     "metadata": {},
     "output_type": "display_data"
    }
   ],
   "source": [
    "from __future__ import print_function\n",
    "from IPython.html.widgets import interact, interactive, fixed\n",
    "from IPython.html import widgets\n",
    "\n",
    "import matplotlib.pyplot as plt\n",
    "% pylab inline \n",
    "\n",
    "@interact (bar_idx=(0,num_test_set))\n",
    "def viz(bar_idx):\n",
    "    img = test_set_x.get_value(borrow=True)[bar_idx]\n",
    "    a = numpy.reshape(img, [28,28])\n",
    "    plt.imshow(a)\n",
    "    print(result[bar_idx])"
   ]
  }
 ],
 "metadata": {
  "kernelspec": {
   "display_name": "Python 2",
   "language": "python",
   "name": "python2"
  },
  "language_info": {
   "codemirror_mode": {
    "name": "ipython",
    "version": 2
   },
   "file_extension": ".py",
   "mimetype": "text/x-python",
   "name": "python",
   "nbconvert_exporter": "python",
   "pygments_lexer": "ipython2",
   "version": "2.7.6"
  }
 },
 "nbformat": 4,
 "nbformat_minor": 0
}

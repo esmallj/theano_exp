{
 "cells": [
  {
   "cell_type": "code",
   "execution_count": 1,
   "metadata": {
    "collapsed": false
   },
   "outputs": [
    {
     "name": "stderr",
     "output_type": "stream",
     "text": [
      "Using gpu device 0: GeForce GTX TITAN X (CNMeM is disabled)\n"
     ]
    }
   ],
   "source": [
    "import theano\n",
    "import theano.tensor as T\n",
    "\n",
    "x = T.matrix('x')\n",
    "y = T.matrix('y')\n",
    "z = T.matrix('z')\n",
    "\n",
    "# (x+y) + (x+y) * z\n",
    "a = x + y\n",
    "b = a * z\n",
    "c = a + b\n",
    "\n",
    "f = theano.function(\n",
    "    inputs = [x, y, z],\n",
    "    outputs = c\n",
    ")\n"
   ]
  },
  {
   "cell_type": "code",
   "execution_count": 5,
   "metadata": {
    "collapsed": false
   },
   "outputs": [
    {
     "name": "stdout",
     "output_type": "stream",
     "text": [
      "[[ 1.05651045 -1.21079338  1.23110497 -0.04195251  2.67902255]\n",
      " [-0.13276182  1.76614249 -0.36022687 -0.59106445 -2.71669126]\n",
      " [-2.37245154 -1.12027502  4.23539543 -5.01190567 -0.88961536]\n",
      " [ 0.09296193  0.19824572 -0.89048773  1.89251935  2.93632889]]\n"
     ]
    }
   ],
   "source": [
    "import numpy as np\n",
    "\n",
    "xx = np.random.randn(4, 5).astype('float32')\n",
    "yy = np.random.randn(4, 5).astype('float32')\n",
    "zz = np.random.randn(4, 5).astype('float32')\n",
    "\n",
    "print f(xx, yy, zz)"
   ]
  }
 ],
 "metadata": {
  "kernelspec": {
   "display_name": "Python 2",
   "language": "python",
   "name": "python2"
  },
  "language_info": {
   "codemirror_mode": {
    "name": "ipython",
    "version": 2
   },
   "file_extension": ".py",
   "mimetype": "text/x-python",
   "name": "python",
   "nbconvert_exporter": "python",
   "pygments_lexer": "ipython2",
   "version": "2.7.6"
  }
 },
 "nbformat": 4,
 "nbformat_minor": 0
}
